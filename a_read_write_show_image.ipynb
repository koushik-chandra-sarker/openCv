{
 "cells": [
  {
   "cell_type": "markdown",
   "metadata": {
    "collapsed": true,
    "pycharm": {
     "name": "#%% md\n"
    }
   },
   "source": [
    "### Read write and show an image using openCV\n",
    "\n",
    ">Read an image from file (using cv::imread)\n",
    "\n",
    ">Display an image in an OpenCV window (using cv::imshow)\n",
    "\n",
    ">Write an image to a file (using cv::imwrite)\n",
    "\n",
    "#### imread()\n",
    "> imread takes 2 parameter one image path another is flags\n",
    "\n",
    "> flags can be 1, 0 or -1 in old method\n",
    " * now flags that can take values of cv::ImreadModes\n",
    "    there are several types of modes you can see this link\n",
    "    https://docs.opencv.org/master/d8/d6a/group__imgcodecs__flags.html#ga61d9b0126a3e57d9277ac48327799c80\n",
    "\n",
    "#### waitKey()\n",
    "\n",
    ">The function waitKey waits for a key event infinitely (when delay≤0 ) or for delay milliseconds, when it is positive.\n",
    "Since the OS has a minimum time between switching threads, the function will not wait exactly delay ms, it will wait at least delay ms, depending on what else is running on your computer at that time. It returns the code of the pressed key or -1 if no key was pressed before the specified time had elapsed. To check for a key press but not wait for it, use pollKey.\n",
    "\n",
    "#### imwrite()\n",
    ">imread takes 3 parameter -> filename, img, param\n",
    "\n",
    ">The function imwrite saves the image to the specified file.\n",
    "\n",
    "##### Further info see the documentation https://docs.opencv.org/master/db/deb/tutorial_display_image.html"
   ]
  },
  {
   "cell_type": "code",
   "execution_count": 7,
   "outputs": [],
   "source": [
    "import cv2 as cv\n",
    "\n",
    "# img = cv.imread(\"lena.jpg\", flags=1)\n",
    "img = cv.imread(\"lena.jpg\", flags=cv.IMREAD_GRAYSCALE)\n",
    "cv.imshow(\"image\", img)\n",
    "cv.waitKey(0) # Waits for a pressed key.\n",
    "cv.destroyAllWindows()"
   ],
   "metadata": {
    "collapsed": false,
    "pycharm": {
     "name": "#%%\n"
    }
   }
  },
  {
   "cell_type": "code",
   "execution_count": 3,
   "outputs": [],
   "source": [
    "import cv2 as cv\n",
    "\n",
    "img = cv.imread(\"lena.jpg\", flags=cv.IMREAD_COLOR)\n",
    "cv.imshow(\"image\", img)\n",
    "key = cv.waitKey(0) # Waits for a pressed key.\n",
    "if key == 27: # 27 means key is esc\n",
    "    cv.destroyAllWindows() # The function destroyAllWindows destroys all of the opened HighGUI windows.\n",
    "elif key == ord('s'):\n",
    "    cv.imwrite(\"lena_copy.jpg\",img)\n",
    "    cv.destroyAllWindows()\n"
   ],
   "metadata": {
    "collapsed": false,
    "pycharm": {
     "name": "#%%\n"
    }
   }
  }
 ],
 "metadata": {
  "kernelspec": {
   "name": "pycharm-7cf4d106",
   "language": "python",
   "display_name": "PyCharm (openCv)"
  },
  "language_info": {
   "codemirror_mode": {
    "name": "ipython",
    "version": 2
   },
   "file_extension": ".py",
   "mimetype": "text/x-python",
   "name": "python",
   "nbconvert_exporter": "python",
   "pygments_lexer": "ipython2",
   "version": "2.7.6"
  }
 },
 "nbformat": 4,
 "nbformat_minor": 0
}