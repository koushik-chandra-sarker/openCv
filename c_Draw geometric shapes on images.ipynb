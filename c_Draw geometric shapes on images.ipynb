{
 "cells": [
  {
   "cell_type": "markdown",
   "metadata": {
    "collapsed": true,
    "pycharm": {
     "name": "#%% md\n"
    }
   },
   "source": [
    "# Goal\n",
    "> Learn to draw different geometric shapes with OpenCV\n",
    "You will learn these functions : cv.line(), cv.circle() , cv.rectangle(), cv.ellipse(), cv.putText() etc.\n",
    "\n",
    "# Code\n",
    "In all the above functions, you will see some common arguments as given below:\n",
    "\n",
    "> img : The image where you want to draw the shapes\n",
    "\n",
    "> color : Color of the shape. for BGR, pass it as a tuple, eg: (255,0,0) for blue. For grayscale, just pass the scalar value.\n",
    "\n",
    "> thickness : Thickness of the line or circle etc. If -1 is passed for closed figures like circles, it will fill the shape. default thickness = 1\n",
    "\n",
    "> lineType : Type of line, whether 8-connected, anti-aliased line etc. By default, it is 8-connected. cv.LINE_AA gives anti-aliased line which looks great for curves.\n",
    "\n",
    "# Drawing Line\n",
    "> To draw a line, you need to pass starting and ending coordinates of line. We will create a black image and draw a blue line on it from top-left to bottom-right corners.\n",
    "\n",
    "line(img, pt1, pt2, color, thickness=None, lineType=None, shift=None)\n",
    ">Here, img = your image, pt1 = start coordinate, pt2 = end coordinate,\n",
    " color= in BGR format, B = Blue, G = Green, R = Red, thickness = pixel( integer number )"
   ]
  },
  {
   "cell_type": "code",
   "execution_count": 3,
   "outputs": [],
   "source": [
    "import cv2 as cv\n",
    "img = cv.imread('lena.jpg', flags=cv.IMREAD_COLOR)\n",
    "# Draw a blue line with thickness of 5 px\n",
    "img = cv.line(img, (5,5), (300, 300), (255, 0,0),thickness=5)\n",
    "cv.imshow(\"Image\", img)\n",
    "cv.waitKey(0)\n",
    "cv.destroyAllWindows()\n"
   ],
   "metadata": {
    "collapsed": false,
    "pycharm": {
     "name": "#%%\n"
    }
   }
  },
  {
   "cell_type": "markdown",
   "source": [
    "# Drawing Arrow Line"
   ],
   "metadata": {
    "collapsed": false,
    "pycharm": {
     "name": "#%% md\n"
    }
   }
  },
  {
   "cell_type": "code",
   "execution_count": 4,
   "outputs": [],
   "source": [
    "import cv2 as cv\n",
    "img = cv.imread('lena.jpg', flags=cv.IMREAD_COLOR)\n",
    "# Draw a Green arrowed line with thickness of 10 px\n",
    "img = cv.arrowedLine(img, (20,205), (255, 255), (0, 255,0),thickness=10)\n",
    "cv.imshow(\"Image\", img)\n",
    "cv.waitKey(0)\n",
    "cv.destroyAllWindows()"
   ],
   "metadata": {
    "collapsed": false,
    "pycharm": {
     "name": "#%%\n"
    }
   }
  },
  {
   "cell_type": "markdown",
   "source": [
    "# Drawing Rectangle\n",
    "> To draw a rectangle, you need 'top-left' corner and 'bottom-right' corner of rectangle. This time we will draw a green rectangle at the top-right corner of image."
   ],
   "metadata": {
    "collapsed": false
   }
  },
  {
   "cell_type": "code",
   "execution_count": 10,
   "outputs": [],
   "source": [
    "import cv2 as cv\n",
    "img = cv.imread('lena.jpg', flags=cv.IMREAD_COLOR)\n",
    "# Draw a Red rectangle with thickness of 8 px\n",
    "img = cv.rectangle(img, (150,150), (400, 400), (0, 0,255),thickness=8)\n",
    "cv.imshow(\"Image\", img)\n",
    "cv.waitKey(0)\n",
    "cv.destroyAllWindows()"
   ],
   "metadata": {
    "collapsed": false,
    "pycharm": {
     "name": "#%%\n"
    }
   }
  },
  {
   "cell_type": "markdown",
   "source": [
    "# Drawing Filled Rectangle\n",
    " > if thickness = -1. it draws a filled Rectangle"
   ],
   "metadata": {
    "collapsed": false,
    "pycharm": {
     "name": "#%% md\n"
    }
   }
  },
  {
   "cell_type": "code",
   "execution_count": 12,
   "outputs": [],
   "source": [
    "import cv2 as cv\n",
    "img = cv.imread('lena.jpg', flags=cv.IMREAD_COLOR)\n",
    "img = cv.rectangle(img, (150,150), (400, 400), (0, 0,255),thickness=-1)\n",
    "cv.imshow(\"Image\", img)\n",
    "cv.waitKey(0)\n",
    "cv.destroyAllWindows()"
   ],
   "metadata": {
    "collapsed": false,
    "pycharm": {
     "name": "#%%\n"
    }
   }
  },
  {
   "cell_type": "markdown",
   "source": [
    "# Drawing Circle\n",
    "> To draw a circle, you need its center coordinates and radius. We will draw a circle inside the rectangle drawn above."
   ],
   "metadata": {
    "collapsed": false,
    "pycharm": {
     "name": "#%% md\n"
    }
   }
  },
  {
   "cell_type": "code",
   "execution_count": 21,
   "outputs": [],
   "source": [
    "import cv2 as cv\n",
    "img = cv.imread('lena.jpg', flags=cv.IMREAD_COLOR)\n",
    "img = cv.circle(img, (100,100), 50, (151, 200,100),thickness=10) # circle without fill\n",
    "img = cv.circle(img, (255,255), 50, (0, 255,255),thickness=-1) # Filled circle\n",
    "cv.imshow(\"Image\", img)\n",
    "cv.waitKey(0)\n",
    "cv.destroyAllWindows()"
   ],
   "metadata": {
    "collapsed": false,
    "pycharm": {
     "name": "#%%\n"
    }
   }
  },
  {
   "cell_type": "markdown",
   "source": [
    "# Drawing Ellipse\n",
    "> To draw the ellipse, we need to pass several arguments. One argument is the center location (x,y). Next argument is axes lengths (major axis length, minor axis length). angle is the angle of rotation of ellipse in anti-clockwise direction. startAngle and endAngle denotes the starting and ending of ellipse arc measured in clockwise direction from major axis. i.e. giving values 0 and 360 gives the full ellipse. For more details, check the documentation of cv.ellipse(). Below example draws a half ellipse at the center of the image.\n",
    "\n",
    "ellipse(img, center, axes, angle, startAngle, endAngle, color, thickness=None, lineType=None, shift=None)"
   ],
   "metadata": {
    "collapsed": false
   }
  },
  {
   "cell_type": "code",
   "execution_count": 29,
   "outputs": [],
   "source": [
    "import cv2 as cv\n",
    "img = cv.imread('lena.jpg', flags=cv.IMREAD_COLOR)\n",
    "cv.ellipse(img,(256,256),(100,50),0,0,180,(0, 255,255),-1)\n",
    "cv.imshow(\"Image\", img)\n",
    "cv.waitKey(0)\n",
    "cv.destroyAllWindows()"
   ],
   "metadata": {
    "collapsed": false,
    "pycharm": {
     "name": "#%%\n"
    }
   }
  },
  {
   "cell_type": "markdown",
   "source": [
    "# Adding Text to Image:\n",
    "To put texts in images, you need specify following things.\n",
    "\n",
    "\n",
    "> - Text data that you want to write\n",
    "- Position coordinates of where you want put it (i.e. bottom-left corner where data starts).\n",
    "- Font type (Check link for supported fonts-> https://docs.opencv.org/4.5.2/d6/d6e/group__imgproc__draw.html#ga0f9314ea6e35f99bb23f29567fc16e11)\n",
    "- Font Scale (specifies the size of font)\n",
    "- regular things like color, thickness, lineType etc. For better look, lineType = cv.LINE_AA is recommended.\n",
    "\n",
    "putText(img, text, org, fontFace, fontScale, color[, thickness[, lineType[, bottomLeftOrigin]]])\n",
    "@param img Image.\n",
    "-   @param text Text string to be drawn.\n",
    "-   @param org Bottom-left corner of the text string in the image.\n",
    "-   @param fontFace Font type, see #HersheyFonts.\n",
    "-   @param fontScale Font scale factor that is multiplied by the font-specific base size.\n",
    "-   @param color Text color.\n",
    "-   @param thickness Thickness of the lines used to draw a text.\n",
    "-   @param lineType Line type. See #LineTypes\n",
    "-   @param bottomLeftOrigin When true, the image data origin is at the bottom-left corner. Otherwise,\n",
    "-   it is at the top-left corner."
   ],
   "metadata": {
    "collapsed": false
   }
  },
  {
   "cell_type": "code",
   "execution_count": 31,
   "outputs": [],
   "source": [
    "\n",
    "import cv2 as cv\n",
    "img = cv.imread('lena.jpg', flags=cv.IMREAD_COLOR)\n",
    "font = cv.FONT_HERSHEY_SIMPLEX\n",
    "cv.putText(img,'Hello Koushik',(10,500), font, 2,(255,255,255),2,cv.LINE_AA)\n",
    "cv.imshow(\"Image\", img)\n",
    "cv.waitKey(0)\n",
    "cv.destroyAllWindows()"
   ],
   "metadata": {
    "collapsed": false,
    "pycharm": {
     "name": "#%%\n"
    }
   }
  },
  {
   "cell_type": "markdown",
   "source": [
    "## For Additional information visit this link\n",
    "> https://docs.opencv.org/4.5.2/dc/da5/tutorial_py_drawing_functions.html\n",
    "\n",
    "\n"
   ],
   "metadata": {
    "collapsed": false,
    "pycharm": {
     "name": "#%% md\n"
    }
   }
  }
 ],
 "metadata": {
  "kernelspec": {
   "display_name": "Python 3",
   "language": "python",
   "name": "python3"
  },
  "language_info": {
   "codemirror_mode": {
    "name": "ipython",
    "version": 2
   },
   "file_extension": ".py",
   "mimetype": "text/x-python",
   "name": "python",
   "nbconvert_exporter": "python",
   "pygments_lexer": "ipython2",
   "version": "2.7.6"
  }
 },
 "nbformat": 4,
 "nbformat_minor": 0
}