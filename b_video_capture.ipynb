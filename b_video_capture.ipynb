{
 "cells": [
  {
   "cell_type": "markdown",
   "metadata": {
    "collapsed": true,
    "pycharm": {
     "name": "#%% md\n"
    }
   },
   "source": [
    "#### Goal\n",
    "* Learn to read video, display video, and save video.\n",
    "* Learn to capture video from a camera and display it.\n",
    "* You will learn these functions : cv.VideoCapture(), cv.VideoWriter()\n",
    "\n",
    "> Learn More from https://docs.opencv.org/4.5.2/dd/d43/tutorial_py_video_display.html\n",
    "#### Capture Video from Camera\n",
    "\n",
    "Often, we have to capture live stream with a camera. OpenCV provides a very simple interface to do this.\n",
    "Let's capture a video from the camera (I am using the built-in webcam on my laptop), convert it into\n",
    "grayscale video and display it. Just a simple task to get started.\n",
    "\n",
    "\n",
    "> To capture a video, you need to create a VideoCapture object. Its argument can be either the device index or the\n",
    " name of a video file. A device index is just the number to specify which camera. Normally one camera will be connected\n",
    " (as in my case). So I simply pass 0 (or -1). You can select the second camera by passing 1 and so on. After that, you\n",
    " can capture frame-by-frame. But at the end, don't forget to release the capture."
   ]
  },
  {
   "cell_type": "code",
   "execution_count": 4,
   "outputs": [],
   "source": [
    "import cv2 as cv\n",
    "\n",
    "capVideo = cv.VideoCapture(0)\n",
    "if not capVideo.isOpened():\n",
    "   print(\"Cannot open camera.\")\n",
    "   exit()\n",
    "\n",
    "while True:\n",
    "\n",
    "    ret, frame = capVideo.read() # Capture frame-by-frame\n",
    "\n",
    "    # if frame is read correctly ret is True\n",
    "    if not ret:\n",
    "        print(\"Can't receive frame (stream end?). Exiting ...\")\n",
    "        break\n",
    "    # cv.imshow(\"frame\", frame) # Show the color video\n",
    "\n",
    "     # Our operations on the frame come here\n",
    "    gray = cv.cvtColor(frame, cv.COLOR_BGR2GRAY)\n",
    "    # Display the resulting frame\n",
    "    cv.imshow('frame', gray)\n",
    "    if cv.waitKey(1) == ord('q'):\n",
    "        break\n",
    "\n",
    "# When everything done, release the capture\n",
    "capVideo.release()\n",
    "cv.destroyAllWindows()"
   ],
   "metadata": {
    "collapsed": false,
    "pycharm": {
     "name": "#%%\n"
    }
   }
  },
  {
   "cell_type": "markdown",
   "source": [
    "\n",
    "### Playing Video from file\n",
    "\n",
    "Playing video from file is the same as capturing it from camera, just change the camera index to a video file name.\n",
    "Also while displaying the frame, use appropriate time for cv.waitKey(). If it is too less, video will be very fast and\n",
    "if it is too high, video will be slow (Well, that is how you can display videos in slow motion). 25 milliseconds will be OK in normal cases.\n"
   ],
   "metadata": {
    "collapsed": false
   }
  },
  {
   "cell_type": "code",
   "execution_count": 9,
   "outputs": [],
   "source": [
    "import cv2 as cv\n",
    "\n",
    "capVideo = cv.VideoCapture(\"vtest.avi\")\n",
    "\n",
    "while capVideo.isOpened():\n",
    "    ret, frame = capVideo.read()\n",
    "     # if frame is read correctly ret is True\n",
    "    if not ret:\n",
    "        print(\"Can't receive frame (stream end?). Exiting ...\")\n",
    "        break\n",
    "\n",
    "    cv.imshow(\"frame\", frame)\n",
    "    if cv.waitKey(1) == ord(\"q\"):\n",
    "        break\n",
    "\n",
    "capVideo.release()\n",
    "cv.destroyAllWindows()"
   ],
   "metadata": {
    "collapsed": false,
    "pycharm": {
     "name": "#%%\n"
    }
   }
  },
  {
   "cell_type": "markdown",
   "source": [
    "### Saving a Video\n",
    "\n",
    "> So we capture a video and process it frame-by-frame, and we want to save that video. For images, it is very simple: just use cv.imwrite(). Here, a little more work is required.\n",
    "\n",
    "> This time we create a VideoWriter object. We should specify the output file name (eg: output.avi). Then we should specify the FourCC code (details in next paragraph). Then number of frames per second (fps) and frame size should be passed. And the last one is the isColor flag. If it is True, the encoder expect color frame, otherwise it works with grayscale frame.\n",
    "\n",
    "> FourCC is a 4-byte code used to specify the video codec. The list of available codes can be found in fourcc.org. It is platform dependent. The following codecs work fine for me.\n",
    "\n",
    "> - In Fedora: DIVX, XVID, MJPG, X264, WMV1, WMV2. (XVID is more preferable. MJPG results in high size video. X264 gives very small size video)\n",
    "- In Windows: DIVX (More to be tested and added)\n",
    "- In OSX: MJPG (.mp4), DIVX (.avi), X264 (.mkv).\n",
    "* FourCC code is passed as `cv.VideoWriter_fourcc('M','J','P','G')or cv.VideoWriter_fourcc(*'MJPG')` for MJPG.\n",
    "\n",
    "The below code captures from a camera, flips every frame in the vertical direction, and saves the video."
   ],
   "metadata": {
    "collapsed": false,
    "pycharm": {
     "name": "#%% md\n"
    }
   }
  },
  {
   "cell_type": "code",
   "execution_count": 14,
   "outputs": [],
   "source": [
    "import cv2 as cv\n",
    "capVideo = cv.VideoCapture(0)\n",
    "\n",
    "fourcc = cv.VideoWriter_fourcc(*'DIVX')\n",
    "output = cv.VideoWriter('output.avi', fourcc, 5.0, (640,  480))\n",
    "\n",
    "while capVideo.isOpened():\n",
    "\n",
    "    ret, frame = capVideo.read()\n",
    "    if not ret:\n",
    "        print(\"Can't receive frame (stream end?). Exiting ...\")\n",
    "        break\n",
    "\n",
    "\n",
    "     # Abouts flip-> https://docs.opencv.org/4.5.2/d2/de8/group__core__array.html#gaca7be533e3dac7feb70fc60635adf441\n",
    "    # frame = cv.flip(frame, 0)\n",
    "\n",
    "\n",
    "    # Write the flipped frame\n",
    "    output.write(frame)\n",
    "\n",
    "    # Display the resulting frame\n",
    "    cv.imshow('frame', frame)\n",
    "    if cv.waitKey(1) == ord('q'):\n",
    "        break\n",
    "\n",
    "# Release everything if job is finished\n",
    "capVideo.release()\n",
    "output.release()\n",
    "cv.destroyAllWindows()"
   ],
   "metadata": {
    "collapsed": false,
    "pycharm": {
     "name": "#%%\n"
    }
   }
  }
 ],
 "metadata": {
  "kernelspec": {
   "name": "pycharm-7cf4d106",
   "language": "python",
   "display_name": "PyCharm (openCv)"
  },
  "language_info": {
   "codemirror_mode": {
    "name": "ipython",
    "version": 2
   },
   "file_extension": ".py",
   "mimetype": "text/x-python",
   "name": "python",
   "nbconvert_exporter": "python",
   "pygments_lexer": "ipython2",
   "version": "2.7.6"
  }
 },
 "nbformat": 4,
 "nbformat_minor": 0
}